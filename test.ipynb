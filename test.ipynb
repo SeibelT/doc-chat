{
 "cells": [
  {
   "cell_type": "code",
   "execution_count": 7,
   "id": "3aafe84f",
   "metadata": {},
   "outputs": [
    {
     "name": "stdout",
     "output_type": "stream",
     "text": [
      "Prompts loaded successfully. {'average': ' You are an assistant for medical question-answering tasks and use the information provided through context, chat history. Assume I have simple to no medical knowledge and want a simple, calm explanation.\\nSpeak casually, stay professional. Use medical terms but explain their meaning. Use clear phrases with concise information (max. 60 words).\\nIf you do not know something, refer to the treating physician.', 'basic_medical': ' You are an assistant for medical question-answering tasks and use the information provided through context, chat history. Assume I understand basic anatomy and biology. Use clear,\\nprofessional language with casual tone. Use medical terms. Focus on the most relevant insights into the procedure.\\nKeep answers informative (max. 90 words). If you do not have information about my question, say so.\\n', 'special_needs': ' You are an assistant for medical question-answering tasks and use the information provided through context, chat history. Assume I know nothing about medicine,\\nstruggle to understand and have a short memory span. Use very simple words and language and short,\\nprecise sentences (max. 30 words) in a simple structure. Do not talk down to me, but be extra clear and respectful.\\nFocus on explaining the absolute basics. If the answer needs more words, ask before continuing.\\nIf you do not know something, refer to the treating physician.\\n'}\n"
     ]
    },
    {
     "data": {
      "text/plain": [
       "' You are an assistant for medical question-answering tasks and use the information provided through context, chat history. Assume I have simple to no medical knowledge and want a simple, calm explanation.\\nSpeak casually, stay professional. Use medical terms but explain their meaning. Use clear phrases with concise information (max. 60 words).\\nIf you do not know something, refer to the treating physician.'"
      ]
     },
     "execution_count": 7,
     "metadata": {},
     "output_type": "execute_result"
    }
   ],
   "source": [
    "from Backend.create_vectorDB import create_vectorstore_from_pdfs\n",
    "\n",
    "\n",
    "#create_vectorstore_from_pdfs(pdf_dir, index_dir, chunk_size=1000, chunk_overlap=200)\n",
    "path_prompts = \"meta_data/prompts.yaml\"\n",
    "import os \n",
    "import yaml\n",
    "if not os.path.exists(path_prompts):\n",
    "        print(f\"Prompts file not found at {path_prompts}. Please ensure it exists.\")    \n",
    "else:\n",
    "    with open(path_prompts, 'r', encoding='cp1252') as file:\n",
    "        prompts = yaml.safe_load(file)\n",
    "        print(\"Prompts loaded successfully.\", prompts)\n",
    "\n",
    "prompts[\"average\"]"
   ]
  },
  {
   "cell_type": "code",
   "execution_count": null,
   "id": "a40b9589",
   "metadata": {},
   "outputs": [
    {
     "name": "stderr",
     "output_type": "stream",
     "text": [
      "c:\\Users\\tseibel\\Desktop\\hackathon\\doc-chat\\.venv\\Lib\\site-packages\\tqdm\\auto.py:21: TqdmWarning: IProgress not found. Please update jupyter and ipywidgets. See https://ipywidgets.readthedocs.io/en/stable/user_install.html\n",
      "  from .autonotebook import tqdm as notebook_tqdm\n"
     ]
    },
    {
     "ename": "TypeError",
     "evalue": "ChatInterface.__init__() got an unexpected keyword argument 'visible'",
     "output_type": "error",
     "traceback": [
      "\u001b[31m---------------------------------------------------------------------------\u001b[39m",
      "\u001b[31mTypeError\u001b[39m                                 Traceback (most recent call last)",
      "\u001b[36mCell\u001b[39m\u001b[36m \u001b[39m\u001b[32mIn[1]\u001b[39m\u001b[32m, line 11\u001b[39m\n\u001b[32m      8\u001b[39m     \u001b[38;5;28;01mreturn\u001b[39;00m \u001b[33mf\u001b[39m\u001b[33m\"\u001b[39m\u001b[33mYou chose Bot 2: \u001b[39m\u001b[38;5;132;01m{\u001b[39;00mmsg\u001b[38;5;132;01m}\u001b[39;00m\u001b[33m\"\u001b[39m\n\u001b[32m     10\u001b[39m \u001b[38;5;28;01mwith\u001b[39;00m gr.Blocks() \u001b[38;5;28;01mas\u001b[39;00m demo:\n\u001b[32m---> \u001b[39m\u001b[32m11\u001b[39m     chatbot1 = \u001b[43mgr\u001b[49m\u001b[43m.\u001b[49m\u001b[43mChatInterface\u001b[49m\u001b[43m(\u001b[49m\u001b[43mfn\u001b[49m\u001b[43m=\u001b[49m\u001b[43mbot1\u001b[49m\u001b[43m,\u001b[49m\u001b[43m \u001b[49m\u001b[43mvisible\u001b[49m\u001b[43m=\u001b[49m\u001b[38;5;28;43;01mFalse\u001b[39;49;00m\u001b[43m)\u001b[49m\n\u001b[32m     12\u001b[39m     chatbot2 = gr.ChatInterface(fn=bot2, visible=\u001b[38;5;28;01mFalse\u001b[39;00m)\n\u001b[32m     14\u001b[39m     \u001b[38;5;28;01mwith\u001b[39;00m gr.Row():\n",
      "\u001b[31mTypeError\u001b[39m: ChatInterface.__init__() got an unexpected keyword argument 'visible'"
     ]
    }
   ],
   "source": [
    "import gradio as gr\n",
    "\n",
    "# Two different functions for different ChatInterfaces\n",
    "def bot1(msg, history):\n",
    "    return f\"You chose Bot 1: {msg}\"\n",
    "\n",
    "def bot2(msg, history):\n",
    "    return f\"You chose Bot 2: {msg}\"\n",
    "\n",
    "with gr.Blocks() as demo:\n",
    "    chatbot1 = gr.ChatInterface(fn=bot1)\n",
    "    chatbot2 = gr.ChatInterface(fn=bot2)\n",
    "\n",
    "    with gr.Row():\n",
    "        btn1 = gr.Button(\"Load Bot 1\")\n",
    "        btn2 = gr.Button(\"Load Bot 2\")\n",
    "\n",
    "    def show_bot1():\n",
    "        return gr.update(visible=True), gr.update(visible=False)\n",
    "    \n",
    "    def show_bot2():\n",
    "        return gr.update(visible=False), gr.update(visible=True)\n",
    "\n",
    "    btn1.click(show_bot1, outputs=[chatbot1, chatbot2])\n",
    "    btn2.click(show_bot2, outputs=[chatbot1, chatbot2])\n",
    "\n",
    "demo.launch()\n"
   ]
  },
  {
   "cell_type": "code",
   "execution_count": 3,
   "id": "4887afef",
   "metadata": {},
   "outputs": [
    {
     "name": "stderr",
     "output_type": "stream",
     "text": [
      "c:\\Users\\tseibel\\Desktop\\hackathon\\doc-chat\\.venv\\Lib\\site-packages\\gradio\\chat_interface.py:338: UserWarning: The 'tuples' format for chatbot messages is deprecated and will be removed in a future version of Gradio. Please set type='messages' instead, which uses openai-style 'role' and 'content' keys.\n",
      "  self.chatbot = Chatbot(\n"
     ]
    },
    {
     "name": "stdout",
     "output_type": "stream",
     "text": [
      "* Running on local URL:  http://127.0.0.1:7861\n",
      "* To create a public link, set `share=True` in `launch()`.\n"
     ]
    },
    {
     "data": {
      "text/html": [
       "<div><iframe src=\"http://127.0.0.1:7861/\" width=\"100%\" height=\"500\" allow=\"autoplay; camera; microphone; clipboard-read; clipboard-write;\" frameborder=\"0\" allowfullscreen></iframe></div>"
      ],
      "text/plain": [
       "<IPython.core.display.HTML object>"
      ]
     },
     "metadata": {},
     "output_type": "display_data"
    },
    {
     "data": {
      "text/plain": []
     },
     "execution_count": 3,
     "metadata": {},
     "output_type": "execute_result"
    }
   ],
   "source": [
    "import gradio as gr\n",
    "\n",
    "def reply(message, history):\n",
    "    return f\"Echo: {message}\"\n",
    "\n",
    "with gr.Blocks() as demo:\n",
    "    with gr.Row():\n",
    "        btn_weather = gr.Button(\"Weather Bot\")\n",
    "        btn_news = gr.Button(\"News Bot\")\n",
    "\n",
    "    # Wrap ChatInterfaces in containers that support .visible\n",
    "    with gr.Column(visible=True) as weather_container:\n",
    "        weather_chat = gr.ChatInterface(\n",
    "            fn=reply,\n",
    "            title=\"Weather Bot\",\n",
    "            description=\"Ask about weather conditions.\",\n",
    "            examples=[[\"What's the weather like today?\"], [\"Will it rain tomorrow?\"]]\n",
    "        )\n",
    "\n",
    "    with gr.Column(visible=False) as news_container:\n",
    "        news_chat = gr.ChatInterface(\n",
    "            fn=reply,\n",
    "            title=\"News Bot\",\n",
    "            description=\"Ask about recent events.\",\n",
    "            examples=[[\"What's the latest news?\"], [\"Any updates in tech?\"]]\n",
    "        )\n",
    "\n",
    "    # Functions to show/hide appropriate ChatInterface\n",
    "    def show_weather():\n",
    "        return gr.update(visible=True), gr.update(visible=False)\n",
    "\n",
    "    def show_news():\n",
    "        return gr.update(visible=False), gr.update(visible=True)\n",
    "\n",
    "    # Button click events\n",
    "    btn_weather.click(show_weather, outputs=[weather_container, news_container])\n",
    "    btn_news.click(show_news, outputs=[weather_container, news_container])\n",
    "\n",
    "demo.launch()\n"
   ]
  },
  {
   "cell_type": "code",
   "execution_count": null,
   "id": "725c7c93",
   "metadata": {},
   "outputs": [
    {
     "name": "stderr",
     "output_type": "stream",
     "text": [
      "c:\\Users\\tseibel\\Desktop\\hackathon\\doc-chat\\.venv\\Lib\\site-packages\\gradio\\chat_interface.py:338: UserWarning: The 'tuples' format for chatbot messages is deprecated and will be removed in a future version of Gradio. Please set type='messages' instead, which uses openai-style 'role' and 'content' keys.\n",
      "  self.chatbot = Chatbot(\n"
     ]
    },
    {
     "name": "stdout",
     "output_type": "stream",
     "text": [
      "* Running on local URL:  http://127.0.0.1:7862\n",
      "* To create a public link, set `share=True` in `launch()`.\n"
     ]
    },
    {
     "data": {
      "text/html": [
       "<div><iframe src=\"http://127.0.0.1:7862/\" width=\"100%\" height=\"500\" allow=\"autoplay; camera; microphone; clipboard-read; clipboard-write;\" frameborder=\"0\" allowfullscreen></iframe></div>"
      ],
      "text/plain": [
       "<IPython.core.display.HTML object>"
      ]
     },
     "metadata": {},
     "output_type": "display_data"
    },
    {
     "data": {
      "text/plain": []
     },
     "execution_count": 4,
     "metadata": {},
     "output_type": "execute_result"
    }
   ],
   "source": [
    "import gradio as gr\n",
    "\n",
    "def reply(message, history):\n",
    "    return f\"Echo: {message}\"\n",
    "\n",
    "# Your bot configurations\n",
    "bots = {\n",
    "    \"Weather Bot\": {\n",
    "        \"title\": \"Weather Bot\",\n",
    "        \"description\": \"Ask about weather\",\n",
    "        \"examples\": [[\"Is it sunny today?\"], [\"Will it rain tomorrow?\"]]\n",
    "    },\n",
    "    \"News Bot\": {\n",
    "        \"title\": \"News Bot\",\n",
    "        \"description\": \"Ask about recent events\",\n",
    "        \"examples\": [[\"What's happening in the world?\"], [\"Any tech news?\"]]\n",
    "    },\n",
    "    \"Joke Bot\": {\n",
    "        \"title\": \"Joke Bot\",\n",
    "        \"description\": \"Ask for jokes\",\n",
    "        \"examples\": [[\"Tell me a joke\"], [\"Make me laugh\"]]\n",
    "    }\n",
    "    # Add more bots as needed\n",
    "}\n",
    "\n",
    "with gr.Blocks() as demo:\n",
    "    with gr.Row():\n",
    "        # Create a button for each bot\n",
    "        bot_buttons = {}\n",
    "        for bot_name in bots:\n",
    "            bot_buttons[bot_name] = gr.Button(bot_name)\n",
    "\n",
    "    # Create one ChatInterface per bot, each in a hidden container\n",
    "    containers = {}\n",
    "    for i, (bot_name, bot_info) in enumerate(bots.items()):\n",
    "        with gr.Column(visible=(i == 0)) as container:  # Show first one\n",
    "            gr.ChatInterface(\n",
    "                fn=reply,\n",
    "                title=bot_info[\"title\"],\n",
    "                description=bot_info[\"description\"],\n",
    "                examples=bot_info[\"examples\"]\n",
    "            )\n",
    "        containers[bot_name] = container\n",
    "\n",
    "    # Create callbacks dynamically\n",
    "    for selected_name, btn in bot_buttons.items():\n",
    "        def make_callback(name=selected_name):\n",
    "            def toggle():\n",
    "                updates = []\n",
    "                for bot_name in bots:\n",
    "                    is_visible = (bot_name == name)\n",
    "                    updates.append(gr.update(visible=is_visible))\n",
    "                return updates\n",
    "            return toggle\n",
    "\n",
    "        btn.click(\n",
    "            make_callback(),\n",
    "            outputs=[containers[bot_name] for bot_name in bots]\n",
    "        )\n",
    "\n",
    "demo.launch()\n"
   ]
  }
 ],
 "metadata": {
  "kernelspec": {
   "display_name": ".venv",
   "language": "python",
   "name": "python3"
  },
  "language_info": {
   "codemirror_mode": {
    "name": "ipython",
    "version": 3
   },
   "file_extension": ".py",
   "mimetype": "text/x-python",
   "name": "python",
   "nbconvert_exporter": "python",
   "pygments_lexer": "ipython3",
   "version": "3.12.10"
  }
 },
 "nbformat": 4,
 "nbformat_minor": 5
}
