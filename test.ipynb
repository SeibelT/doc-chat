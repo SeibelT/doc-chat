{
 "cells": [
  {
   "cell_type": "code",
   "execution_count": 7,
   "id": "3aafe84f",
   "metadata": {},
   "outputs": [
    {
     "name": "stdout",
     "output_type": "stream",
     "text": [
      "Prompts loaded successfully. {'average': ' You are an assistant for medical question-answering tasks and use the information provided through context, chat history. Assume I have simple to no medical knowledge and want a simple, calm explanation.\\nSpeak casually, stay professional. Use medical terms but explain their meaning. Use clear phrases with concise information (max. 60 words).\\nIf you do not know something, refer to the treating physician.', 'basic_medical': ' You are an assistant for medical question-answering tasks and use the information provided through context, chat history. Assume I understand basic anatomy and biology. Use clear,\\nprofessional language with casual tone. Use medical terms. Focus on the most relevant insights into the procedure.\\nKeep answers informative (max. 90 words). If you do not have information about my question, say so.\\n', 'special_needs': ' You are an assistant for medical question-answering tasks and use the information provided through context, chat history. Assume I know nothing about medicine,\\nstruggle to understand and have a short memory span. Use very simple words and language and short,\\nprecise sentences (max. 30 words) in a simple structure. Do not talk down to me, but be extra clear and respectful.\\nFocus on explaining the absolute basics. If the answer needs more words, ask before continuing.\\nIf you do not know something, refer to the treating physician.\\n'}\n"
     ]
    },
    {
     "data": {
      "text/plain": [
       "' You are an assistant for medical question-answering tasks and use the information provided through context, chat history. Assume I have simple to no medical knowledge and want a simple, calm explanation.\\nSpeak casually, stay professional. Use medical terms but explain their meaning. Use clear phrases with concise information (max. 60 words).\\nIf you do not know something, refer to the treating physician.'"
      ]
     },
     "execution_count": 7,
     "metadata": {},
     "output_type": "execute_result"
    }
   ],
   "source": [
    "from Backend.create_vectorDB import create_vectorstore_from_pdfs\n",
    "\n",
    "\n",
    "#create_vectorstore_from_pdfs(pdf_dir, index_dir, chunk_size=1000, chunk_overlap=200)\n",
    "path_prompts = \"meta_data/prompts.yaml\"\n",
    "import os \n",
    "import yaml\n",
    "if not os.path.exists(path_prompts):\n",
    "        print(f\"Prompts file not found at {path_prompts}. Please ensure it exists.\")    \n",
    "else:\n",
    "    with open(path_prompts, 'r', encoding='cp1252') as file:\n",
    "        prompts = yaml.safe_load(file)\n",
    "        print(\"Prompts loaded successfully.\", prompts)\n",
    "\n",
    "prompts[\"average\"]"
   ]
  },
  {
   "cell_type": "code",
   "execution_count": 3,
   "id": "a40b9589",
   "metadata": {},
   "outputs": [
    {
     "ename": "ValueError",
     "evalue": "dictionary update sequence element #0 has length 1; 2 is required",
     "output_type": "error",
     "traceback": [
      "\u001b[31m---------------------------------------------------------------------------\u001b[39m",
      "\u001b[31mValueError\u001b[39m                                Traceback (most recent call last)",
      "\u001b[36mCell\u001b[39m\u001b[36m \u001b[39m\u001b[32mIn[3]\u001b[39m\u001b[32m, line 1\u001b[39m\n\u001b[32m----> \u001b[39m\u001b[32m1\u001b[39m \u001b[38;5;28;43mdict\u001b[39;49m\u001b[43m(\u001b[49m\u001b[43mprompts\u001b[49m\u001b[43m)\u001b[49m\n",
      "\u001b[31mValueError\u001b[39m: dictionary update sequence element #0 has length 1; 2 is required"
     ]
    }
   ],
   "source": [
    "dict(prompts)"
   ]
  }
 ],
 "metadata": {
  "kernelspec": {
   "display_name": ".venv",
   "language": "python",
   "name": "python3"
  },
  "language_info": {
   "codemirror_mode": {
    "name": "ipython",
    "version": 3
   },
   "file_extension": ".py",
   "mimetype": "text/x-python",
   "name": "python",
   "nbconvert_exporter": "python",
   "pygments_lexer": "ipython3",
   "version": "3.12.10"
  }
 },
 "nbformat": 4,
 "nbformat_minor": 5
}
