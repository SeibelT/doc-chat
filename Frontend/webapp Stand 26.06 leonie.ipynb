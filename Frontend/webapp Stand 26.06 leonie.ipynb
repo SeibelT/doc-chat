{
 "cells": [
  {
   "cell_type": "code",
   "execution_count": 31,
   "id": "e5f89d8e",
   "metadata": {},
   "outputs": [
    {
     "name": "stdout",
     "output_type": "stream",
     "text": [
      "Requirement already satisfied: gradio in c:\\users\\leonie\\appdata\\local\\programs\\python\\python313\\lib\\site-packages (5.29.1)\n",
      "Requirement already satisfied: aiofiles<25.0,>=22.0 in c:\\users\\leonie\\appdata\\local\\programs\\python\\python313\\lib\\site-packages (from gradio) (24.1.0)\n",
      "Requirement already satisfied: anyio<5.0,>=3.0 in c:\\users\\leonie\\appdata\\local\\programs\\python\\python313\\lib\\site-packages (from gradio) (4.9.0)\n",
      "Requirement already satisfied: audioop-lts<1.0 in c:\\users\\leonie\\appdata\\local\\programs\\python\\python313\\lib\\site-packages (from gradio) (0.2.1)\n",
      "Requirement already satisfied: fastapi<1.0,>=0.115.2 in c:\\users\\leonie\\appdata\\local\\programs\\python\\python313\\lib\\site-packages (from gradio) (0.115.12)\n",
      "Requirement already satisfied: ffmpy in c:\\users\\leonie\\appdata\\local\\programs\\python\\python313\\lib\\site-packages (from gradio) (0.5.0)\n",
      "Requirement already satisfied: gradio-client==1.10.1 in c:\\users\\leonie\\appdata\\local\\programs\\python\\python313\\lib\\site-packages (from gradio) (1.10.1)\n",
      "Requirement already satisfied: groovy~=0.1 in c:\\users\\leonie\\appdata\\local\\programs\\python\\python313\\lib\\site-packages (from gradio) (0.1.2)\n",
      "Requirement already satisfied: httpx>=0.24.1 in c:\\users\\leonie\\appdata\\local\\programs\\python\\python313\\lib\\site-packages (from gradio) (0.28.1)\n",
      "Requirement already satisfied: huggingface-hub>=0.28.1 in c:\\users\\leonie\\appdata\\local\\programs\\python\\python313\\lib\\site-packages (from gradio) (0.31.2)\n",
      "Requirement already satisfied: jinja2<4.0 in c:\\users\\leonie\\appdata\\local\\programs\\python\\python313\\lib\\site-packages (from gradio) (3.1.6)\n",
      "Requirement already satisfied: markupsafe<4.0,>=2.0 in c:\\users\\leonie\\appdata\\local\\programs\\python\\python313\\lib\\site-packages (from gradio) (3.0.2)\n",
      "Requirement already satisfied: numpy<3.0,>=1.0 in c:\\users\\leonie\\appdata\\local\\programs\\python\\python313\\lib\\site-packages (from gradio) (2.2.5)\n",
      "Requirement already satisfied: orjson~=3.0 in c:\\users\\leonie\\appdata\\local\\programs\\python\\python313\\lib\\site-packages (from gradio) (3.10.18)\n",
      "Requirement already satisfied: packaging in c:\\users\\leonie\\appdata\\roaming\\python\\python313\\site-packages (from gradio) (25.0)\n",
      "Requirement already satisfied: pandas<3.0,>=1.0 in c:\\users\\leonie\\appdata\\local\\programs\\python\\python313\\lib\\site-packages (from gradio) (2.2.3)\n",
      "Requirement already satisfied: pillow<12.0,>=8.0 in c:\\users\\leonie\\appdata\\local\\programs\\python\\python313\\lib\\site-packages (from gradio) (11.2.1)\n",
      "Requirement already satisfied: pydantic<2.12,>=2.0 in c:\\users\\leonie\\appdata\\local\\programs\\python\\python313\\lib\\site-packages (from gradio) (2.11.4)\n",
      "Requirement already satisfied: pydub in c:\\users\\leonie\\appdata\\local\\programs\\python\\python313\\lib\\site-packages (from gradio) (0.25.1)\n",
      "Requirement already satisfied: python-multipart>=0.0.18 in c:\\users\\leonie\\appdata\\local\\programs\\python\\python313\\lib\\site-packages (from gradio) (0.0.20)\n",
      "Requirement already satisfied: pyyaml<7.0,>=5.0 in c:\\users\\leonie\\appdata\\local\\programs\\python\\python313\\lib\\site-packages (from gradio) (6.0.2)\n",
      "Requirement already satisfied: ruff>=0.9.3 in c:\\users\\leonie\\appdata\\local\\programs\\python\\python313\\lib\\site-packages (from gradio) (0.11.10)\n",
      "Requirement already satisfied: safehttpx<0.2.0,>=0.1.6 in c:\\users\\leonie\\appdata\\local\\programs\\python\\python313\\lib\\site-packages (from gradio) (0.1.6)\n",
      "Requirement already satisfied: semantic-version~=2.0 in c:\\users\\leonie\\appdata\\local\\programs\\python\\python313\\lib\\site-packages (from gradio) (2.10.0)\n",
      "Requirement already satisfied: starlette<1.0,>=0.40.0 in c:\\users\\leonie\\appdata\\local\\programs\\python\\python313\\lib\\site-packages (from gradio) (0.46.2)\n",
      "Requirement already satisfied: tomlkit<0.14.0,>=0.12.0 in c:\\users\\leonie\\appdata\\local\\programs\\python\\python313\\lib\\site-packages (from gradio) (0.13.2)\n",
      "Requirement already satisfied: typer<1.0,>=0.12 in c:\\users\\leonie\\appdata\\local\\programs\\python\\python313\\lib\\site-packages (from gradio) (0.15.4)\n",
      "Requirement already satisfied: typing-extensions~=4.0 in c:\\users\\leonie\\appdata\\local\\programs\\python\\python313\\lib\\site-packages (from gradio) (4.13.2)\n",
      "Requirement already satisfied: uvicorn>=0.14.0 in c:\\users\\leonie\\appdata\\local\\programs\\python\\python313\\lib\\site-packages (from gradio) (0.34.2)\n",
      "Requirement already satisfied: fsspec in c:\\users\\leonie\\appdata\\local\\programs\\python\\python313\\lib\\site-packages (from gradio-client==1.10.1->gradio) (2025.3.2)\n",
      "Requirement already satisfied: websockets<16.0,>=10.0 in c:\\users\\leonie\\appdata\\local\\programs\\python\\python313\\lib\\site-packages (from gradio-client==1.10.1->gradio) (15.0.1)\n",
      "Requirement already satisfied: idna>=2.8 in c:\\users\\leonie\\appdata\\local\\programs\\python\\python313\\lib\\site-packages (from anyio<5.0,>=3.0->gradio) (3.10)\n",
      "Requirement already satisfied: sniffio>=1.1 in c:\\users\\leonie\\appdata\\local\\programs\\python\\python313\\lib\\site-packages (from anyio<5.0,>=3.0->gradio) (1.3.1)\n",
      "Requirement already satisfied: certifi in c:\\users\\leonie\\appdata\\local\\programs\\python\\python313\\lib\\site-packages (from httpx>=0.24.1->gradio) (2025.4.26)\n",
      "Requirement already satisfied: httpcore==1.* in c:\\users\\leonie\\appdata\\local\\programs\\python\\python313\\lib\\site-packages (from httpx>=0.24.1->gradio) (1.0.9)\n",
      "Requirement already satisfied: h11>=0.16 in c:\\users\\leonie\\appdata\\local\\programs\\python\\python313\\lib\\site-packages (from httpcore==1.*->httpx>=0.24.1->gradio) (0.16.0)\n",
      "Requirement already satisfied: filelock in c:\\users\\leonie\\appdata\\local\\programs\\python\\python313\\lib\\site-packages (from huggingface-hub>=0.28.1->gradio) (3.18.0)\n",
      "Requirement already satisfied: requests in c:\\users\\leonie\\appdata\\local\\programs\\python\\python313\\lib\\site-packages (from huggingface-hub>=0.28.1->gradio) (2.32.3)\n",
      "Requirement already satisfied: tqdm>=4.42.1 in c:\\users\\leonie\\appdata\\local\\programs\\python\\python313\\lib\\site-packages (from huggingface-hub>=0.28.1->gradio) (4.67.1)\n",
      "Requirement already satisfied: python-dateutil>=2.8.2 in c:\\users\\leonie\\appdata\\roaming\\python\\python313\\site-packages (from pandas<3.0,>=1.0->gradio) (2.9.0.post0)\n",
      "Requirement already satisfied: pytz>=2020.1 in c:\\users\\leonie\\appdata\\local\\programs\\python\\python313\\lib\\site-packages (from pandas<3.0,>=1.0->gradio) (2025.2)\n",
      "Requirement already satisfied: tzdata>=2022.7 in c:\\users\\leonie\\appdata\\local\\programs\\python\\python313\\lib\\site-packages (from pandas<3.0,>=1.0->gradio) (2025.2)\n",
      "Requirement already satisfied: annotated-types>=0.6.0 in c:\\users\\leonie\\appdata\\local\\programs\\python\\python313\\lib\\site-packages (from pydantic<2.12,>=2.0->gradio) (0.7.0)\n",
      "Requirement already satisfied: pydantic-core==2.33.2 in c:\\users\\leonie\\appdata\\local\\programs\\python\\python313\\lib\\site-packages (from pydantic<2.12,>=2.0->gradio) (2.33.2)\n",
      "Requirement already satisfied: typing-inspection>=0.4.0 in c:\\users\\leonie\\appdata\\local\\programs\\python\\python313\\lib\\site-packages (from pydantic<2.12,>=2.0->gradio) (0.4.0)\n",
      "Requirement already satisfied: click<8.2,>=8.0.0 in c:\\users\\leonie\\appdata\\local\\programs\\python\\python313\\lib\\site-packages (from typer<1.0,>=0.12->gradio) (8.1.8)\n",
      "Requirement already satisfied: shellingham>=1.3.0 in c:\\users\\leonie\\appdata\\local\\programs\\python\\python313\\lib\\site-packages (from typer<1.0,>=0.12->gradio) (1.5.4)\n",
      "Requirement already satisfied: rich>=10.11.0 in c:\\users\\leonie\\appdata\\local\\programs\\python\\python313\\lib\\site-packages (from typer<1.0,>=0.12->gradio) (14.0.0)\n",
      "Requirement already satisfied: colorama in c:\\users\\leonie\\appdata\\roaming\\python\\python313\\site-packages (from click<8.2,>=8.0.0->typer<1.0,>=0.12->gradio) (0.4.6)\n",
      "Requirement already satisfied: six>=1.5 in c:\\users\\leonie\\appdata\\roaming\\python\\python313\\site-packages (from python-dateutil>=2.8.2->pandas<3.0,>=1.0->gradio) (1.17.0)\n",
      "Requirement already satisfied: markdown-it-py>=2.2.0 in c:\\users\\leonie\\appdata\\local\\programs\\python\\python313\\lib\\site-packages (from rich>=10.11.0->typer<1.0,>=0.12->gradio) (3.0.0)\n",
      "Requirement already satisfied: pygments<3.0.0,>=2.13.0 in c:\\users\\leonie\\appdata\\roaming\\python\\python313\\site-packages (from rich>=10.11.0->typer<1.0,>=0.12->gradio) (2.19.1)\n",
      "Requirement already satisfied: charset-normalizer<4,>=2 in c:\\users\\leonie\\appdata\\local\\programs\\python\\python313\\lib\\site-packages (from requests->huggingface-hub>=0.28.1->gradio) (3.4.2)\n",
      "Requirement already satisfied: urllib3<3,>=1.21.1 in c:\\users\\leonie\\appdata\\local\\programs\\python\\python313\\lib\\site-packages (from requests->huggingface-hub>=0.28.1->gradio) (2.4.0)\n",
      "Requirement already satisfied: mdurl~=0.1 in c:\\users\\leonie\\appdata\\local\\programs\\python\\python313\\lib\\site-packages (from markdown-it-py>=2.2.0->rich>=10.11.0->typer<1.0,>=0.12->gradio) (0.1.2)\n",
      "Note: you may need to restart the kernel to use updated packages.\n"
     ]
    },
    {
     "name": "stderr",
     "output_type": "stream",
     "text": [
      "\n",
      "[notice] A new release of pip is available: 25.0.1 -> 25.1.1\n",
      "[notice] To update, run: python.exe -m pip install --upgrade pip\n"
     ]
    }
   ],
   "source": [
    "%pip install gradio"
   ]
  },
  {
   "cell_type": "code",
   "execution_count": 19,
   "id": "742cdc5f",
   "metadata": {},
   "outputs": [],
   "source": [
    "with open(f, \"r\", encoding='utf-8') as file:\n",
    "    frontend_text = yaml.safe_load(file)\n",
    "\n",
    "language_modes = frontend_text[\"language_modes\"]\n",
    "topics =frontend_text[\"topics\"]\n",
    "topic_questions =frontend_text[\"topics\"]\n",
    "html_code = frontend_text[\"html_code\"]"
   ]
  },
  {
   "cell_type": "code",
   "execution_count": 17,
   "id": "56b103a1",
   "metadata": {},
   "outputs": [
    {
     "data": {
      "text/plain": [
       "['Information on the Procedure 📄🧠',\n",
       " 'Risks & Complications 🩺🏥',\n",
       " 'Concerns & Questions 🪽💭',\n",
       " 'Checklist & Preparation 🧾✅',\n",
       " 'Agenda of the Day 🗓️🕒',\n",
       " 'Aftercare ❤️\\u200d🩹']"
      ]
     },
     "execution_count": 17,
     "metadata": {},
     "output_type": "execute_result"
    }
   ],
   "source": [
    "topic_questions"
   ]
  },
  {
   "cell_type": "code",
   "execution_count": null,
   "id": "e4360967",
   "metadata": {},
   "outputs": [
    {
     "name": "stderr",
     "output_type": "stream",
     "text": [
      "c:\\Users\\tseibel\\Desktop\\hackathon\\doc-chat\\.venv\\Lib\\site-packages\\gradio\\chat_interface.py:338: UserWarning: The 'tuples' format for chatbot messages is deprecated and will be removed in a future version of Gradio. Please set type='messages' instead, which uses openai-style 'role' and 'content' keys.\n",
      "  self.chatbot = Chatbot(\n"
     ]
    },
    {
     "name": "stdout",
     "output_type": "stream",
     "text": [
      "* Running on local URL:  http://127.0.0.1:7886\n",
      "* To create a public link, set `share=True` in `launch()`.\n"
     ]
    },
    {
     "data": {
      "text/html": [
       "<div><iframe src=\"http://127.0.0.1:7886/\" width=\"100%\" height=\"500\" allow=\"autoplay; camera; microphone; clipboard-read; clipboard-write;\" frameborder=\"0\" allowfullscreen></iframe></div>"
      ],
      "text/plain": [
       "<IPython.core.display.HTML object>"
      ]
     },
     "metadata": {},
     "output_type": "display_data"
    }
   ],
   "source": [
    "import gradio as gr\n",
    "import yaml\n",
    "\n",
    "class ChatApp:\n",
    "    def __init__(self,frontend_dict_path = \"./assets/frontend_text.yaml\"):\n",
    "        with open(frontend_dict_path, \"r\", encoding='utf-8') as file:\n",
    "            frontend_text = yaml.safe_load(file)\n",
    "\n",
    "        self.language_modes = frontend_text[\"language_modes\"]\n",
    "        self.topics =frontend_text[\"topics\"]\n",
    "        self.topic_questions =frontend_text[\"topic_questions\"]\n",
    "\n",
    "        self.language_mode = gr.State(\"standard\")\n",
    "        \n",
    " \n",
    "    def respond(self,message, history):\n",
    "        answer = message + \" \" +self.language_mode.value\n",
    "        return answer\n",
    "\n",
    "    # Navigation\n",
    "    def go_to_chat(self,lang_mode):\n",
    "        self.language_mode.value = self.language_modes[lang_mode]\n",
    "        return \"page3\", lang_mode\n",
    "\n",
    "    def go_to_start(self):\n",
    "        return \"page1\"\n",
    "\n",
    "    # Thema wählen und Fragen in Chat laden\n",
    "    def update_topic_and_history(topic, lang):\n",
    "        questions = topic_questions.get(topic, [])\n",
    "        history = [(q, f\"[{lang} | {topic}] Demo-Antwort auf: {q}\") for q in questions]\n",
    "        return topic, f\"## Topic: {topic}\", history\n",
    "\n",
    "\n",
    "\n",
    "    def build(self):\n",
    "        # UI\n",
    "        with gr.Blocks(css=\".gradio-container { max-width: 800px; margin: auto; }\") as demo:\n",
    "            current_page = gr.State(\"page1\")\n",
    "            selected_lang = gr.State(\"Standard\")\n",
    "            selected_topic = gr.State(topics[0])\n",
    "\n",
    "\n",
    "\n",
    "            with gr.Column(visible=True) as page1:\n",
    "                with gr.Row():\n",
    "                    gr.Image(value=\"assets/LogoP1.png\", height=250, width=250, show_label=False, show_download_button=False, elem_id=\"icon\")\n",
    "                gr.Markdown(\"## How should I talk to you?\")\n",
    "                for idx, (key,val) in enumerate(self.language_modes.items()):\n",
    "                    gr.Button(val, elem_id=f\"lang-button-{idx}\").click(self.go_to_chat, [gr.State(key)], [current_page, selected_lang])\n",
    "\n",
    "            with gr.Column(visible=False) as page3:\n",
    "                topic_heading = gr.Markdown(\"##\")\n",
    "                gr.Markdown(\"### Choose a topic:\")\n",
    "                chat = gr.ChatInterface(\n",
    "                    fn=self.respond,\n",
    "                    examples=[\"hello\", \"hola\", \"merhaba\"],\n",
    "                    title=\"Echo Bot\",\n",
    "                    \n",
    "                )\n",
    "\n",
    "\n",
    "            def render(page, lang=None, topic=None):\n",
    "                return {\n",
    "                    page1: gr.update(visible=page == \"page1\"),\n",
    "                    page3: gr.update(visible=page == \"page3\"),\n",
    "                    topic_heading: gr.update(value=f\"## Topic: {topic}\" if topic else \"\")\n",
    "                }\n",
    "\n",
    "            current_page.change(render, [current_page, selected_lang, selected_topic], [page1, page3, topic_heading])\n",
    "\n",
    "            gr.HTML(html_code)\n",
    "    \n",
    "        return demo\n",
    "\n",
    "\n",
    "\n",
    "\n",
    "if __name__ == \"__main__\":\n",
    "    app = ChatApp()\n",
    "    demo = app.build()\n",
    "    demo.launch()\n",
    "\n",
    "\n",
    "\n"
   ]
  },
  {
   "cell_type": "code",
   "execution_count": null,
   "id": "2bd1cb00",
   "metadata": {},
   "outputs": [
    {
     "name": "stderr",
     "output_type": "stream",
     "text": [
      "c:\\Users\\tseibel\\Desktop\\hackathon\\doc-chat\\.venv\\Lib\\site-packages\\gradio\\chat_interface.py:338: UserWarning: The 'tuples' format for chatbot messages is deprecated and will be removed in a future version of Gradio. Please set type='messages' instead, which uses openai-style 'role' and 'content' keys.\n",
      "  self.chatbot = Chatbot(\n"
     ]
    },
    {
     "name": "stdout",
     "output_type": "stream",
     "text": [
      "* Running on local URL:  http://127.0.0.1:7874\n",
      "* To create a public link, set `share=True` in `launch()`.\n"
     ]
    },
    {
     "data": {
      "text/html": [
       "<div><iframe src=\"http://127.0.0.1:7874/\" width=\"100%\" height=\"500\" allow=\"autoplay; camera; microphone; clipboard-read; clipboard-write;\" frameborder=\"0\" allowfullscreen></iframe></div>"
      ],
      "text/plain": [
       "<IPython.core.display.HTML object>"
      ]
     },
     "metadata": {},
     "output_type": "display_data"
    }
   ],
   "source": [
    "import gradio as gr\n",
    "import subprocess\n",
    "\n",
    "class model:\n",
    "    def __init__(self):\n",
    "        self.foo = 1\n",
    "\n",
    "    def forward(self,input): \n",
    "        return input + \"broooo\"\n",
    "\n",
    "\n",
    "class ChatApp:\n",
    "    def __init__(self,model):\n",
    "        self.current_model = \"llama3\"  # default\n",
    "        self.model = model\n",
    "\n",
    "    def set_model(self, model_name):\n",
    "        self.current_model = model_name\n",
    "        self.model.foo = model_name\n",
    "        return f\"Model set to: {model_name}\"\n",
    "\n",
    "    def chat_fn(self, message, history):\n",
    "        #prompt = f\"{message}\\n\\nChat History:\\n\" + \"\\n\".join([f\"User: {x[0]}\\nBot: {x[1]}\" for x in history])\n",
    "        #print(f\"[DEBUG] Using model: {self.current_model}\")\n",
    "        #response = subprocess.check_output([\"ollama\", \"run\", self.current_model, prompt], text=True)\n",
    "        #return response.strip()\n",
    "        return f\"i am {self.current_model} not answering that {message} + {self.model.foo}\"\n",
    "\n",
    "    def build(self):\n",
    "        with gr.Blocks(css=\".gradio-container { max-width: 800px; margin: auto; }\") as demo:\n",
    "            gr.Markdown(\"# 🧠 Local Chatbot with Model Switching\")\n",
    "\n",
    "            with gr.Row():\n",
    "                buttons = {}\n",
    "                for key,value in language_modes.items():\n",
    "                    buttons[key]=gr.Button(value)\n",
    "                \n",
    "\n",
    "            status = gr.Textbox(label=\"Current Model\", value=f\"Model set to: {self.current_model}\", interactive=False)\n",
    "\n",
    "            chat = gr.ChatInterface(fn=self.chat_fn)\n",
    "\n",
    "\n",
    "            # Link buttons to model switching\n",
    "            for name,button in buttons.items():\n",
    "                button.click(lambda: self.set_model(name), outputs=status)\n",
    "    \n",
    "        return demo\n",
    "\n",
    "\n",
    "\n",
    "\n",
    "if __name__ == \"__main__\":\n",
    "    app = ChatApp(model())\n",
    "    demo = app.build()\n",
    "    demo.launch()\n"
   ]
  }
 ],
 "metadata": {
  "kernelspec": {
   "display_name": ".venv",
   "language": "python",
   "name": "python3"
  },
  "language_info": {
   "codemirror_mode": {
    "name": "ipython",
    "version": 3
   },
   "file_extension": ".py",
   "mimetype": "text/x-python",
   "name": "python",
   "nbconvert_exporter": "python",
   "pygments_lexer": "ipython3",
   "version": "3.12.10"
  }
 },
 "nbformat": 4,
 "nbformat_minor": 5
}
