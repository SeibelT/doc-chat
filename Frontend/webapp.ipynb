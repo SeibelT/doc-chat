{
 "cells": [
  {
   "cell_type": "code",
   "execution_count": 4,
   "id": "e5f89d8e",
   "metadata": {},
   "outputs": [
    {
     "name": "stdout",
     "output_type": "stream",
     "text": [
      "Collecting gradio\n",
      "  Using cached gradio-5.29.1-py3-none-any.whl.metadata (16 kB)\n",
      "Requirement already satisfied: aiofiles<25.0,>=22.0 in c:\\users\\leonie\\appdata\\local\\programs\\python\\python313\\lib\\site-packages (from gradio) (24.1.0)\n",
      "Requirement already satisfied: anyio<5.0,>=3.0 in c:\\users\\leonie\\appdata\\local\\programs\\python\\python313\\lib\\site-packages (from gradio) (4.9.0)\n",
      "Requirement already satisfied: audioop-lts<1.0 in c:\\users\\leonie\\appdata\\local\\programs\\python\\python313\\lib\\site-packages (from gradio) (0.2.1)\n",
      "Collecting fastapi<1.0,>=0.115.2 (from gradio)\n",
      "  Using cached fastapi-0.115.12-py3-none-any.whl.metadata (27 kB)\n",
      "Requirement already satisfied: ffmpy in c:\\users\\leonie\\appdata\\local\\programs\\python\\python313\\lib\\site-packages (from gradio) (0.5.0)\n",
      "Collecting gradio-client==1.10.1 (from gradio)\n",
      "  Using cached gradio_client-1.10.1-py3-none-any.whl.metadata (7.1 kB)\n",
      "Requirement already satisfied: groovy~=0.1 in c:\\users\\leonie\\appdata\\local\\programs\\python\\python313\\lib\\site-packages (from gradio) (0.1.2)\n",
      "Collecting httpx>=0.24.1 (from gradio)\n",
      "  Using cached httpx-0.28.1-py3-none-any.whl.metadata (7.1 kB)\n",
      "Collecting huggingface-hub>=0.28.1 (from gradio)\n",
      "  Using cached huggingface_hub-0.31.2-py3-none-any.whl.metadata (13 kB)\n",
      "Requirement already satisfied: jinja2<4.0 in c:\\users\\leonie\\appdata\\local\\programs\\python\\python313\\lib\\site-packages (from gradio) (3.1.6)\n",
      "Requirement already satisfied: markupsafe<4.0,>=2.0 in c:\\users\\leonie\\appdata\\local\\programs\\python\\python313\\lib\\site-packages (from gradio) (3.0.2)\n",
      "Requirement already satisfied: numpy<3.0,>=1.0 in c:\\users\\leonie\\appdata\\local\\programs\\python\\python313\\lib\\site-packages (from gradio) (2.2.5)\n",
      "Requirement already satisfied: orjson~=3.0 in c:\\users\\leonie\\appdata\\local\\programs\\python\\python313\\lib\\site-packages (from gradio) (3.10.18)\n",
      "Requirement already satisfied: packaging in c:\\users\\leonie\\appdata\\roaming\\python\\python313\\site-packages (from gradio) (25.0)\n",
      "Requirement already satisfied: pandas<3.0,>=1.0 in c:\\users\\leonie\\appdata\\local\\programs\\python\\python313\\lib\\site-packages (from gradio) (2.2.3)\n",
      "Requirement already satisfied: pillow<12.0,>=8.0 in c:\\users\\leonie\\appdata\\local\\programs\\python\\python313\\lib\\site-packages (from gradio) (11.2.1)\n",
      "Requirement already satisfied: pydantic<2.12,>=2.0 in c:\\users\\leonie\\appdata\\local\\programs\\python\\python313\\lib\\site-packages (from gradio) (2.11.4)\n",
      "Requirement already satisfied: pydub in c:\\users\\leonie\\appdata\\local\\programs\\python\\python313\\lib\\site-packages (from gradio) (0.25.1)\n",
      "Requirement already satisfied: python-multipart>=0.0.18 in c:\\users\\leonie\\appdata\\local\\programs\\python\\python313\\lib\\site-packages (from gradio) (0.0.20)\n",
      "Requirement already satisfied: pyyaml<7.0,>=5.0 in c:\\users\\leonie\\appdata\\local\\programs\\python\\python313\\lib\\site-packages (from gradio) (6.0.2)\n",
      "Requirement already satisfied: ruff>=0.9.3 in c:\\users\\leonie\\appdata\\local\\programs\\python\\python313\\lib\\site-packages (from gradio) (0.11.10)\n",
      "Collecting safehttpx<0.2.0,>=0.1.6 (from gradio)\n",
      "  Using cached safehttpx-0.1.6-py3-none-any.whl.metadata (4.2 kB)\n",
      "Requirement already satisfied: semantic-version~=2.0 in c:\\users\\leonie\\appdata\\local\\programs\\python\\python313\\lib\\site-packages (from gradio) (2.10.0)\n",
      "Requirement already satisfied: starlette<1.0,>=0.40.0 in c:\\users\\leonie\\appdata\\local\\programs\\python\\python313\\lib\\site-packages (from gradio) (0.46.2)\n",
      "Requirement already satisfied: tomlkit<0.14.0,>=0.12.0 in c:\\users\\leonie\\appdata\\local\\programs\\python\\python313\\lib\\site-packages (from gradio) (0.13.2)\n",
      "Collecting typer<1.0,>=0.12 (from gradio)\n",
      "  Using cached typer-0.15.4-py3-none-any.whl.metadata (15 kB)\n",
      "Requirement already satisfied: typing-extensions~=4.0 in c:\\users\\leonie\\appdata\\local\\programs\\python\\python313\\lib\\site-packages (from gradio) (4.13.2)\n",
      "Requirement already satisfied: uvicorn>=0.14.0 in c:\\users\\leonie\\appdata\\local\\programs\\python\\python313\\lib\\site-packages (from gradio) (0.34.2)\n",
      "Requirement already satisfied: fsspec in c:\\users\\leonie\\appdata\\local\\programs\\python\\python313\\lib\\site-packages (from gradio-client==1.10.1->gradio) (2025.3.2)\n",
      "Requirement already satisfied: websockets<16.0,>=10.0 in c:\\users\\leonie\\appdata\\local\\programs\\python\\python313\\lib\\site-packages (from gradio-client==1.10.1->gradio) (15.0.1)\n",
      "Requirement already satisfied: idna>=2.8 in c:\\users\\leonie\\appdata\\local\\programs\\python\\python313\\lib\\site-packages (from anyio<5.0,>=3.0->gradio) (3.10)\n",
      "Requirement already satisfied: sniffio>=1.1 in c:\\users\\leonie\\appdata\\local\\programs\\python\\python313\\lib\\site-packages (from anyio<5.0,>=3.0->gradio) (1.3.1)\n",
      "Requirement already satisfied: certifi in c:\\users\\leonie\\appdata\\local\\programs\\python\\python313\\lib\\site-packages (from httpx>=0.24.1->gradio) (2025.4.26)\n",
      "Requirement already satisfied: httpcore==1.* in c:\\users\\leonie\\appdata\\local\\programs\\python\\python313\\lib\\site-packages (from httpx>=0.24.1->gradio) (1.0.9)\n",
      "Requirement already satisfied: h11>=0.16 in c:\\users\\leonie\\appdata\\local\\programs\\python\\python313\\lib\\site-packages (from httpcore==1.*->httpx>=0.24.1->gradio) (0.16.0)\n",
      "Requirement already satisfied: filelock in c:\\users\\leonie\\appdata\\local\\programs\\python\\python313\\lib\\site-packages (from huggingface-hub>=0.28.1->gradio) (3.18.0)\n",
      "Requirement already satisfied: requests in c:\\users\\leonie\\appdata\\local\\programs\\python\\python313\\lib\\site-packages (from huggingface-hub>=0.28.1->gradio) (2.32.3)\n",
      "Requirement already satisfied: tqdm>=4.42.1 in c:\\users\\leonie\\appdata\\local\\programs\\python\\python313\\lib\\site-packages (from huggingface-hub>=0.28.1->gradio) (4.67.1)\n",
      "Requirement already satisfied: python-dateutil>=2.8.2 in c:\\users\\leonie\\appdata\\roaming\\python\\python313\\site-packages (from pandas<3.0,>=1.0->gradio) (2.9.0.post0)\n",
      "Requirement already satisfied: pytz>=2020.1 in c:\\users\\leonie\\appdata\\local\\programs\\python\\python313\\lib\\site-packages (from pandas<3.0,>=1.0->gradio) (2025.2)\n",
      "Requirement already satisfied: tzdata>=2022.7 in c:\\users\\leonie\\appdata\\local\\programs\\python\\python313\\lib\\site-packages (from pandas<3.0,>=1.0->gradio) (2025.2)\n",
      "Requirement already satisfied: annotated-types>=0.6.0 in c:\\users\\leonie\\appdata\\local\\programs\\python\\python313\\lib\\site-packages (from pydantic<2.12,>=2.0->gradio) (0.7.0)\n",
      "Requirement already satisfied: pydantic-core==2.33.2 in c:\\users\\leonie\\appdata\\local\\programs\\python\\python313\\lib\\site-packages (from pydantic<2.12,>=2.0->gradio) (2.33.2)\n",
      "Requirement already satisfied: typing-inspection>=0.4.0 in c:\\users\\leonie\\appdata\\local\\programs\\python\\python313\\lib\\site-packages (from pydantic<2.12,>=2.0->gradio) (0.4.0)\n",
      "Requirement already satisfied: click<8.2,>=8.0.0 in c:\\users\\leonie\\appdata\\local\\programs\\python\\python313\\lib\\site-packages (from typer<1.0,>=0.12->gradio) (8.1.8)\n",
      "Requirement already satisfied: shellingham>=1.3.0 in c:\\users\\leonie\\appdata\\local\\programs\\python\\python313\\lib\\site-packages (from typer<1.0,>=0.12->gradio) (1.5.4)\n",
      "Requirement already satisfied: rich>=10.11.0 in c:\\users\\leonie\\appdata\\local\\programs\\python\\python313\\lib\\site-packages (from typer<1.0,>=0.12->gradio) (14.0.0)\n",
      "Requirement already satisfied: colorama in c:\\users\\leonie\\appdata\\roaming\\python\\python313\\site-packages (from click<8.2,>=8.0.0->typer<1.0,>=0.12->gradio) (0.4.6)\n",
      "Requirement already satisfied: six>=1.5 in c:\\users\\leonie\\appdata\\roaming\\python\\python313\\site-packages (from python-dateutil>=2.8.2->pandas<3.0,>=1.0->gradio) (1.17.0)\n",
      "Requirement already satisfied: markdown-it-py>=2.2.0 in c:\\users\\leonie\\appdata\\local\\programs\\python\\python313\\lib\\site-packages (from rich>=10.11.0->typer<1.0,>=0.12->gradio) (3.0.0)\n",
      "Requirement already satisfied: pygments<3.0.0,>=2.13.0 in c:\\users\\leonie\\appdata\\roaming\\python\\python313\\site-packages (from rich>=10.11.0->typer<1.0,>=0.12->gradio) (2.19.1)\n",
      "Requirement already satisfied: charset-normalizer<4,>=2 in c:\\users\\leonie\\appdata\\local\\programs\\python\\python313\\lib\\site-packages (from requests->huggingface-hub>=0.28.1->gradio) (3.4.2)\n",
      "Requirement already satisfied: urllib3<3,>=1.21.1 in c:\\users\\leonie\\appdata\\local\\programs\\python\\python313\\lib\\site-packages (from requests->huggingface-hub>=0.28.1->gradio) (2.4.0)\n",
      "Requirement already satisfied: mdurl~=0.1 in c:\\users\\leonie\\appdata\\local\\programs\\python\\python313\\lib\\site-packages (from markdown-it-py>=2.2.0->rich>=10.11.0->typer<1.0,>=0.12->gradio) (0.1.2)\n",
      "Using cached gradio-5.29.1-py3-none-any.whl (54.1 MB)\n",
      "Using cached gradio_client-1.10.1-py3-none-any.whl (323 kB)\n",
      "Using cached fastapi-0.115.12-py3-none-any.whl (95 kB)\n",
      "Using cached httpx-0.28.1-py3-none-any.whl (73 kB)\n",
      "Using cached huggingface_hub-0.31.2-py3-none-any.whl (484 kB)\n",
      "Using cached safehttpx-0.1.6-py3-none-any.whl (8.7 kB)\n",
      "Using cached typer-0.15.4-py3-none-any.whl (45 kB)\n",
      "Installing collected packages: huggingface-hub, httpx, typer, safehttpx, gradio-client, fastapi, gradio\n",
      "Note: you may need to restart the kernel to use updated packages.\n"
     ]
    },
    {
     "name": "stderr",
     "output_type": "stream",
     "text": [
      "ERROR: Could not install packages due to an OSError: [WinError 32] Der Prozess kann nicht auf die Datei zugreifen, da sie von einem anderen Prozess verwendet wird: 'c:\\\\Users\\\\leonie\\\\AppData\\\\Local\\\\Programs\\\\Python\\\\Python313\\\\Lib\\\\site-packages\\\\huggingface_hub\\\\inference\\\\_providers\\\\cerebras.py'\n",
      "Consider using the `--user` option or check the permissions.\n",
      "\n",
      "\n",
      "[notice] A new release of pip is available: 25.0.1 -> 25.1.1\n",
      "[notice] To update, run: python.exe -m pip install --upgrade pip\n"
     ]
    }
   ],
   "source": [
    "%pip install gradio"
   ]
  },
  {
   "cell_type": "code",
   "execution_count": 1,
   "id": "5f2b2b16",
   "metadata": {},
   "outputs": [
    {
     "name": "stderr",
     "output_type": "stream",
     "text": [
      "c:\\Users\\leonie\\AppData\\Local\\Programs\\Python\\Python313\\Lib\\site-packages\\tqdm\\auto.py:21: TqdmWarning: IProgress not found. Please update jupyter and ipywidgets. See https://ipywidgets.readthedocs.io/en/stable/user_install.html\n",
      "  from .autonotebook import tqdm as notebook_tqdm\n",
      "C:\\Users\\leonie\\AppData\\Local\\Temp\\ipykernel_17060\\450893732.py:30: UserWarning: You have not specified a value for the `type` parameter. Defaulting to the 'tuples' format for chatbot messages, but this is deprecated and will be removed in a future version of Gradio. Please set type='messages' instead, which uses openai-style dictionaries with 'role' and 'content' keys.\n",
      "  chatbot = gr.Chatbot()\n"
     ]
    },
    {
     "name": "stdout",
     "output_type": "stream",
     "text": [
      "* Running on local URL:  http://127.0.0.1:7860\n",
      "* To create a public link, set `share=True` in `launch()`.\n"
     ]
    },
    {
     "data": {
      "text/html": [
       "<div><iframe src=\"http://127.0.0.1:7860/\" width=\"100%\" height=\"500\" allow=\"autoplay; camera; microphone; clipboard-read; clipboard-write;\" frameborder=\"0\" allowfullscreen></iframe></div>"
      ],
      "text/plain": [
       "<IPython.core.display.HTML object>"
      ]
     },
     "metadata": {},
     "output_type": "display_data"
    },
    {
     "data": {
      "text/plain": []
     },
     "execution_count": 1,
     "metadata": {},
     "output_type": "execute_result"
    }
   ],
   "source": [
    "import gradio as gr\n",
    "\n",
    "# ---------- Page 1: 3 Buttons ----------\n",
    "def button_clicked(choice):\n",
    "    return f\"You clicked: {choice}\"\n",
    "\n",
    "with gr.Blocks() as page1:\n",
    "    gr.Markdown(\"## Page 1: Choose a Button\")\n",
    "    with gr.Row():\n",
    "        btn1 = gr.Button(\"Button 1\")\n",
    "        btn2 = gr.Button(\"Button 2\")\n",
    "        btn3 = gr.Button(\"Button 3\")\n",
    "    output1 = gr.Textbox(label=\"Result\")\n",
    "    \n",
    "    btn1.click(fn=lambda: button_clicked(\"Button 1\"), outputs=output1)\n",
    "    btn2.click(fn=lambda: button_clicked(\"Button 2\"), outputs=output1)\n",
    "    btn3.click(fn=lambda: button_clicked(\"Button 3\"), outputs=output1)\n",
    "\n",
    "# ---------- Page 2: Simple Chat ----------\n",
    "chat_history = []\n",
    "\n",
    "def chat_response(message, history):\n",
    "    history = history or []\n",
    "    response = f\"You said: {message}\"\n",
    "    history.append((message, response))\n",
    "    return \"\", history\n",
    "\n",
    "with gr.Blocks() as page2:\n",
    "    gr.Markdown(\"## Page 2: Chat with the App\")\n",
    "    chatbot = gr.Chatbot()\n",
    "    msg = gr.Textbox(label=\"Your Message\")\n",
    "    send_btn = gr.Button(\"Send\")\n",
    "    \n",
    "    send_btn.click(fn=chat_response, inputs=[msg, chatbot], outputs=[msg, chatbot])\n",
    "\n",
    "# ---------- Page 3: Dummy Text ----------\n",
    "with gr.Blocks() as page3:\n",
    "    gr.Markdown(\"## Page 3: Dummy Text\")\n",
    "    gr.Textbox(value=\"This is some dummy text. Hello world!\", lines=5, label=\"Note\")\n",
    "\n",
    "# ---------- Main App with Tabs ----------\n",
    "with gr.Blocks() as demo:\n",
    "    with gr.Tab(\"Buttons Page\"):\n",
    "        page1.render()\n",
    "    with gr.Tab(\"Chat Page\"):\n",
    "        page2.render()\n",
    "    with gr.Tab(\"Text Page\"):\n",
    "        page3.render()\n",
    "\n",
    "# Launch the app\n",
    "demo.launch()\n"
   ]
  },
  {
   "cell_type": "code",
   "execution_count": 3,
   "id": "ab765c32",
   "metadata": {},
   "outputs": [
    {
     "name": "stderr",
     "output_type": "stream",
     "text": [
      "C:\\Users\\leonie\\AppData\\Local\\Temp\\ipykernel_17060\\1493185245.py:54: UserWarning: You have not specified a value for the `type` parameter. Defaulting to the 'tuples' format for chatbot messages, but this is deprecated and will be removed in a future version of Gradio. Please set type='messages' instead, which uses openai-style dictionaries with 'role' and 'content' keys.\n",
      "  chatbot = gr.Chatbot()\n"
     ]
    },
    {
     "name": "stdout",
     "output_type": "stream",
     "text": [
      "* Running on local URL:  http://127.0.0.1:7861\n",
      "* To create a public link, set `share=True` in `launch()`.\n"
     ]
    },
    {
     "data": {
      "text/html": [
       "<div><iframe src=\"http://127.0.0.1:7861/\" width=\"100%\" height=\"500\" allow=\"autoplay; camera; microphone; clipboard-read; clipboard-write;\" frameborder=\"0\" allowfullscreen></iframe></div>"
      ],
      "text/plain": [
       "<IPython.core.display.HTML object>"
      ]
     },
     "metadata": {},
     "output_type": "display_data"
    },
    {
     "data": {
      "text/plain": []
     },
     "execution_count": 3,
     "metadata": {},
     "output_type": "execute_result"
    }
   ],
   "source": [
    "import gradio as gr\n",
    "\n",
    "# Topics\n",
    "topics = [\n",
    "    \"Informations\",\n",
    "    \"Risks and Complications\",\n",
    "    \"Concerns & Questions\",\n",
    "    \"Day Preparation\",\n",
    "    \"Agenda of the Day\",\n",
    "    \"Aftercare & Notifications\",\n",
    "    \"Documents & Medical History\",\n",
    "    \"Download PDF for Patient\"\n",
    "]\n",
    "\n",
    "# Dummy Chatbot Function\n",
    "def respond(message, history, topic):\n",
    "    history = history or []\n",
    "    response = f\"[{topic}] Echo: {message}\"\n",
    "    history.append((message, response))\n",
    "    return history, \"\"\n",
    "\n",
    "with gr.Blocks() as demo:\n",
    "    selected_topic = gr.State(\"\")\n",
    "    current_page = gr.State(\"page1\")\n",
    "\n",
    "    with gr.Row():\n",
    "        gr.Markdown(\"## Patient Assistant\")\n",
    "        settings_button = gr.Button(\"⚙️ Accessibility Settings\")\n",
    "\n",
    "    settings_button.click(lambda: print(\"Settings clicked\"), outputs=[])\n",
    "\n",
    "    with gr.Column(visible=True) as page1:\n",
    "        gr.Markdown(\"### Please choose a topic\")\n",
    "\n",
    "        colors = [\n",
    "            \"#F9C89B\", \"#A3BCE2\", \"#F5A9B8\", \"#B6D3F2\",\n",
    "            \"#C3E7C4\", \"#F0B3B3\", \"#FBE9A0\", \"#D4D4DC\"\n",
    "        ]\n",
    "\n",
    "        output = gr.Textbox(label=\"Result\", lines=2, visible=False)\n",
    "\n",
    "        for i in range(0, len(topics), 2):\n",
    "            with gr.Row():\n",
    "                for j in range(2):\n",
    "                    if i + j < len(topics):\n",
    "                        gr.Button(topics[i + j],\n",
    "                                  elem_id=f\"button-{i+j}\",\n",
    "                                  elem_classes=\"colored-button\").click(\n",
    "                            lambda t=topics[i + j]: (t, \"page2\"), None, [selected_topic, current_page]\n",
    "                        )\n",
    "\n",
    "    with gr.Column(visible=False) as page2:\n",
    "        topic_heading = gr.Markdown(\"\")\n",
    "        chatbot = gr.Chatbot()\n",
    "        msg = gr.Textbox(label=\"Enter your message\")\n",
    "        msg.submit(respond, [msg, chatbot, selected_topic], [chatbot, msg])\n",
    "        back_button = gr.Button(\"⬅️ Back\")\n",
    "        back_button.click(lambda: \"page1\", None, current_page)\n",
    "\n",
    "    # Toggle Page Display\n",
    "    def render_page(page, topic):\n",
    "        return {\n",
    "            page1: gr.update(visible=page == \"page1\"),\n",
    "            page2: gr.update(visible=page == \"page2\"),\n",
    "            topic_heading: gr.update(value=f\"## Chat about: {topic}\" if topic else \"\")\n",
    "        }\n",
    "\n",
    "    current_page.change(render_page, [current_page, selected_topic], [page1, page2, topic_heading])\n",
    "\n",
    "    # CSS Styles to match your image\n",
    "    gr.HTML(\"\"\"\n",
    "    <style>\n",
    "    .colored-button {\n",
    "        width: 220px;\n",
    "        height: 80px;\n",
    "        font-size: 16px;\n",
    "        font-weight: bold;\n",
    "        color: black;\n",
    "        border-radius: 16px;\n",
    "        margin: 6px;\n",
    "        border: none;\n",
    "        cursor: pointer;\n",
    "    }\n",
    "    #button-0 { background-color: #F9C89B; }\n",
    "    #button-1 { background-color: #A3BCE2; }\n",
    "    #button-2 { background-color: #F5A9B8; }\n",
    "    #button-3 { background-color: #B6D3F2; }\n",
    "    #button-4 { background-color: #C3E7C4; }\n",
    "    #button-5 { background-color: #F0B3B3; }\n",
    "    #button-6 { background-color: #FBE9A0; }\n",
    "    #button-7 { background-color: #D4D4DC; }\n",
    "    </style>\n",
    "    \"\"\")\n",
    "\n",
    "demo.launch()\n"
   ]
  },
  {
   "cell_type": "code",
   "execution_count": null,
   "id": "214efa3f",
   "metadata": {},
   "outputs": [],
   "source": []
  }
 ],
 "metadata": {
  "kernelspec": {
   "display_name": "Python 3",
   "language": "python",
   "name": "python3"
  },
  "language_info": {
   "codemirror_mode": {
    "name": "ipython",
    "version": 3
   },
   "file_extension": ".py",
   "mimetype": "text/x-python",
   "name": "python",
   "nbconvert_exporter": "python",
   "pygments_lexer": "ipython3",
   "version": "3.13.3"
  }
 },
 "nbformat": 4,
 "nbformat_minor": 5
}
