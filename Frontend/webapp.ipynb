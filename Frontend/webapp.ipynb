{
 "cells": [
  {
   "cell_type": "code",
   "execution_count": 1,
   "id": "5f2b2b16",
   "metadata": {},
   "outputs": [
    {
     "name": "stderr",
     "output_type": "stream",
     "text": [
      "c:\\Users\\Arian\\Desktop\\doc-chat\\.venv\\Lib\\site-packages\\tqdm\\auto.py:21: TqdmWarning: IProgress not found. Please update jupyter and ipywidgets. See https://ipywidgets.readthedocs.io/en/stable/user_install.html\n",
      "  from .autonotebook import tqdm as notebook_tqdm\n",
      "C:\\Users\\Arian\\AppData\\Local\\Temp\\ipykernel_27204\\450893732.py:30: UserWarning: You have not specified a value for the `type` parameter. Defaulting to the 'tuples' format for chatbot messages, but this is deprecated and will be removed in a future version of Gradio. Please set type='messages' instead, which uses openai-style dictionaries with 'role' and 'content' keys.\n",
      "  chatbot = gr.Chatbot()\n"
     ]
    },
    {
     "name": "stdout",
     "output_type": "stream",
     "text": [
      "* Running on local URL:  http://127.0.0.1:7860\n",
      "* To create a public link, set `share=True` in `launch()`.\n"
     ]
    },
    {
     "data": {
      "text/html": [
       "<div><iframe src=\"http://127.0.0.1:7860/\" width=\"100%\" height=\"500\" allow=\"autoplay; camera; microphone; clipboard-read; clipboard-write;\" frameborder=\"0\" allowfullscreen></iframe></div>"
      ],
      "text/plain": [
       "<IPython.core.display.HTML object>"
      ]
     },
     "metadata": {},
     "output_type": "display_data"
    },
    {
     "data": {
      "text/plain": []
     },
     "execution_count": 1,
     "metadata": {},
     "output_type": "execute_result"
    }
   ],
   "source": [
    "import gradio as gr\n",
    "\n",
    "# ---------- Page 1: 3 Buttons ----------\n",
    "def button_clicked(choice):\n",
    "    return f\"You clicked: {choice}\"\n",
    "\n",
    "with gr.Blocks() as page1:\n",
    "    gr.Markdown(\"## Page 1: Choose a Button\")\n",
    "    with gr.Row():\n",
    "        btn1 = gr.Button(\"Button 1\")\n",
    "        btn2 = gr.Button(\"Button 2\")\n",
    "        btn3 = gr.Button(\"Button 3\")\n",
    "    output1 = gr.Textbox(label=\"Result\")\n",
    "    \n",
    "    btn1.click(fn=lambda: button_clicked(\"Button 1\"), outputs=output1)\n",
    "    btn2.click(fn=lambda: button_clicked(\"Button 2\"), outputs=output1)\n",
    "    btn3.click(fn=lambda: button_clicked(\"Button 3\"), outputs=output1)\n",
    "\n",
    "# ---------- Page 2: Simple Chat ----------\n",
    "chat_history = []\n",
    "\n",
    "def chat_response(message, history):\n",
    "    history = history or []\n",
    "    response = f\"You said: {message}\"\n",
    "    history.append((message, response))\n",
    "    return \"\", history\n",
    "\n",
    "with gr.Blocks() as page2:\n",
    "    gr.Markdown(\"## Page 2: Chat with the App\")\n",
    "    chatbot = gr.Chatbot()\n",
    "    msg = gr.Textbox(label=\"Your Message\")\n",
    "    send_btn = gr.Button(\"Send\")\n",
    "    \n",
    "    send_btn.click(fn=chat_response, inputs=[msg, chatbot], outputs=[msg, chatbot])\n",
    "\n",
    "# ---------- Page 3: Dummy Text ----------\n",
    "with gr.Blocks() as page3:\n",
    "    gr.Markdown(\"## Page 3: Dummy Text\")\n",
    "    gr.Textbox(value=\"This is some dummy text. Hello world!\", lines=5, label=\"Note\")\n",
    "\n",
    "# ---------- Main App with Tabs ----------\n",
    "with gr.Blocks() as demo:\n",
    "    with gr.Tab(\"Buttons Page\"):\n",
    "        page1.render()\n",
    "    with gr.Tab(\"Chat Page\"):\n",
    "        page2.render()\n",
    "    with gr.Tab(\"Text Page\"):\n",
    "        page3.render()\n",
    "\n",
    "# Launch the app\n",
    "demo.launch()\n"
   ]
  }
 ],
 "metadata": {
  "kernelspec": {
   "display_name": ".venv",
   "language": "python",
   "name": "python3"
  },
  "language_info": {
   "codemirror_mode": {
    "name": "ipython",
    "version": 3
   },
   "file_extension": ".py",
   "mimetype": "text/x-python",
   "name": "python",
   "nbconvert_exporter": "python",
   "pygments_lexer": "ipython3",
   "version": "3.11.9"
  }
 },
 "nbformat": 4,
 "nbformat_minor": 5
}
