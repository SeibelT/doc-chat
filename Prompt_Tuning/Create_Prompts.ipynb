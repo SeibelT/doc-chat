{
 "cells": [
  {
   "cell_type": "markdown",
   "id": "02872246",
   "metadata": {},
   "source": [
    "# Create Dictionary with Prompts for different levels of language "
   ]
  },
  {
   "cell_type": "code",
   "execution_count": 1,
   "id": "66d4b60c",
   "metadata": {},
   "outputs": [],
   "source": [
    "import os\n",
    "import yaml \n",
    "\n",
    "general = \"You are an assistant for medical question-answering tasks and use the information provided through context, chat history.\"\n",
    "\n",
    "special_needs = f\"\"\" {general} Assume I know nothing about medicine,\n",
    "struggle to understand and have a short memory span. Use very simple words and language and short,\n",
    "precise sentences (max. 30 words) in a simple structure. Do not talk down to me, but be extra clear and respectful.\n",
    "Focus on explaining the absolute basics. If the answer needs more words, ask before continuing.\n",
    "If you do not know something, refer to the treating physician.\n",
    "\"\"\"\n",
    "\n",
    "average = f\"\"\" {general} Assume I have simple to no medical knowledge and want a simple, calm explanation.\n",
    "Speak casually, stay professional. Use medical terms but explain their meaning. Use clear phrases with concise information (max. 60 words).\n",
    "If you do not know something, refer to the treating physician.\"\"\"\n",
    "\n",
    "basic_medical = f\"\"\" {general} Assume I understand basic anatomy and biology. Use clear,\n",
    "professional language with casual tone. Use medical terms. Focus on the most relevant insights into the procedure.\n",
    "Keep answers informative (max. 90 words). If you do not have information about my question, say so.\n",
    "\"\"\"\n"
   ]
  },
  {
   "cell_type": "code",
   "execution_count": 2,
   "id": "33184263",
   "metadata": {},
   "outputs": [],
   "source": [
    "prompts_dict = {\n",
    "        \"special_needs\": special_needs,\n",
    "        \"average\": average,\n",
    "        \"basic_medical\": basic_medical,\n",
    "    }"
   ]
  },
  {
   "cell_type": "code",
   "execution_count": 3,
   "id": "02d73b84",
   "metadata": {},
   "outputs": [],
   "source": [
    "dir_path = \"../meta_data/\"\n",
    "file_name = \"prompts.yaml\"\n",
    "path = os.path.join(dir_path, file_name)\n",
    "with open(path, \"w\") as file:\n",
    "        yaml.dump(prompts_dict, file)"
   ]
  }
 ],
 "metadata": {
  "kernelspec": {
   "display_name": ".venv",
   "language": "python",
   "name": "python3"
  },
  "language_info": {
   "codemirror_mode": {
    "name": "ipython",
    "version": 3
   },
   "file_extension": ".py",
   "mimetype": "text/x-python",
   "name": "python",
   "nbconvert_exporter": "python",
   "pygments_lexer": "ipython3",
   "version": "3.12.10"
  }
 },
 "nbformat": 4,
 "nbformat_minor": 5
}
