{
 "cells": [
  {
   "cell_type": "code",
   "execution_count": null,
   "id": "6f3a0084",
   "metadata": {},
   "outputs": [],
   "source": [
    "import openai\n",
    "\n",
    "class ChatLLM:\n",
    "    def __init__(self, system_instruction=\"You are a helpful assistant.\", base_url=\"http://localhost:8000/v1\", model=\"tiiuae/falcon-rw-1b\"):\n",
    "        self.system_instruction = {\"role\": \"system\", \"content\": system_instruction}\n",
    "        self.history = [self.system_instruction]\n",
    "        self.model = model\n",
    "        openai.api_key = \"EMPTY\"  # vLLM doesn't check it\n",
    "        openai.api_base = base_url\n",
    "\n",
    "    def forward(self, prompt):\n",
    "        self.history.append({\"role\": \"user\", \"content\": prompt})\n",
    "        response = openai.ChatCompletion.create(\n",
    "            model=self.model,\n",
    "            messages=self.history,\n",
    "            temperature=0.7,\n",
    "        )\n",
    "        reply = response[\"choices\"][0][\"message\"][\"content\"]\n",
    "        self.history.append({\"role\": \"assistant\", \"content\": reply})\n",
    "        return reply\n",
    "\n",
    "    def get_history(self):\n",
    "        return self.history\n"
   ]
  },
  {
   "cell_type": "code",
   "execution_count": null,
   "id": "1a5ead89",
   "metadata": {},
   "outputs": [],
   "source": [
    "chat = ChatLLM(system_instruction=\"You are a programming assistant.\")\n",
    "\n",
    "response = chat.forward(\"Can you write a Python function to reverse a list?\")\n",
    "print(response)\n",
    "\n",
    "# Get full conversation\n",
    "for msg in chat.get_history():\n",
    "    print(f\"{msg['role'].upper()}: {msg['content']}\\n\")\n"
   ]
  },
  {
   "cell_type": "code",
   "execution_count": null,
   "id": "232efa96",
   "metadata": {},
   "outputs": [],
   "source": [
    "history = []\n",
    "llm = ...\n",
    "if button_A:\n",
    "    instruction =  \"patient is smart\"\n",
    "elif button_B:\n",
    "    instruction =  \"patient is special\"\n",
    "\n",
    "history.append({\"instruction\":instruction})\n",
    "while chatting:\n",
    "    input = ...\n",
    "    history.append({\"user\":input})\n",
    "    output = llm(history)\n",
    "    history.append({\"system\":output})\n",
    "\n",
    "save_history(history)\n"
   ]
  },
  {
   "cell_type": "code",
   "execution_count": null,
   "id": "912c0901",
   "metadata": {},
   "outputs": [],
   "source": [
    "TODO\n",
    "1.) serve llm \n",
    "2.) access lllm \n",
    "3.) loop for chat with history "
   ]
  }
 ],
 "metadata": {
  "kernelspec": {
   "display_name": ".venv",
   "language": "python",
   "name": "python3"
  },
  "language_info": {
   "name": "python",
   "version": "3.12.10"
  }
 },
 "nbformat": 4,
 "nbformat_minor": 5
}
