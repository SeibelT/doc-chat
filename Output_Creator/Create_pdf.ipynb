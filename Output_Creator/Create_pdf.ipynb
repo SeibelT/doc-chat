{
 "cells": [
  {
   "cell_type": "code",
   "execution_count": 15,
   "id": "3edb78d6",
   "metadata": {},
   "outputs": [
    {
     "name": "stdout",
     "output_type": "stream",
     "text": [
      "../meta_data/output/chat_history.json\n"
     ]
    }
   ],
   "source": [
    "#!pip install fpdf\n",
    "\n",
    "import json\n",
    "from fpdf import FPDF\n",
    " \n",
    "import re\n",
    "import unicodedata\n",
    "import unicodedata\n",
    "\n",
    "def sanitize_text(text):\n",
    "    try:\n",
    "        return unicodedata.normalize(\"NFKD\", text).encode(\"latin-1\", \"ignore\").decode(\"latin-1\")\n",
    "    except Exception:\n",
    "        return \"[Context could not be rendered due to encoding issues.]\"\n",
    "\n",
    "\n",
    "def clean_for_pdf(text):\n",
    "    # Normalize fancy Unicode characters to closest ASCII equivalent\n",
    "    text = unicodedata.normalize(\"NFKD\", text)\n",
    "    \n",
    "    # Encode to latin-1, ignoring unsupported characters, then decode back\n",
    "    text = text.encode(\"latin-1\", \"ignore\").decode(\"latin-1\")\n",
    "\n",
    "    # Optionally replace bullet points and such with ASCII symbols\n",
    "    text = text.replace(\"•\", \"-\").replace(\"–\", \"-\").replace(\"—\", \"-\")\n",
    "    text = re.sub(r\"[“”]\", '\"', text)\n",
    "    text = re.sub(r\"[‘’]\", \"'\", text)\n",
    "\n",
    "    return text\n",
    "\n",
    "def generate_chat_pdf(json_file, output_pdf,add_context=False):\n",
    "    # Load chat data from file\n",
    "    with open(json_file, 'r') as f:\n",
    "        chat_data = json.load(f)\n",
    "\n",
    "    # Create PDF\n",
    "    pdf = FPDF()\n",
    "    pdf.set_auto_page_break(auto=True, margin=15)\n",
    "    pdf.add_page()\n",
    "    pdf.set_font(\"Arial\", size=12)\n",
    "\n",
    "    pdf.set_title(\"Chat History Transcript\")\n",
    "\n",
    "    for message in chat_data:\n",
    "        role = message[\"type\"]\n",
    "        content = message[\"data\"][\"content\"]\n",
    "\n",
    "        if role == \"human\":\n",
    "            pdf.set_text_color(0, 0, 128)  # Blue for human\n",
    "            pdf.multi_cell(0, 10, f\"Human: { clean_for_pdf(content)}\", border=0)\n",
    "\n",
    "        elif role == \"ai\":\n",
    "            pdf.set_text_color(0, 100, 0)  # Dark green for AI\n",
    "            pdf.multi_cell(0, 10, f\"AI: { clean_for_pdf(content)}\", border=0)\n",
    "\n",
    "            # NEW: Add retrieved context if available\n",
    "            context = message[\"data\"].get(\"additional_kwargs\", {}).get(\"retrieved_context\")\n",
    "            context =  clean_for_pdf(context)\n",
    "            if add_context:\n",
    "                if context :\n",
    "                    safe_context = sanitize_text(context)\n",
    "                    pdf.set_text_color(105, 105, 105)\n",
    "                    pdf.multi_cell(0, 10, f\"> Context used: {safe_context}\", border=0)\n",
    "\n",
    "        pdf.ln(2)\n",
    "\n",
    "    # Save PDF\n",
    "    pdf.output(output_pdf)\n",
    "\n",
    "\n",
    "# Usage\n",
    "f_hist = \"../meta_data/output/chat_history.json\"\n",
    "\n",
    "generate_chat_pdf(f_hist, f_hist.replace(\".json\",\"_doctor.pdf\"),add_context=True)\n",
    "print(f_hist)\n",
    "generate_chat_pdf(f_hist, f_hist.replace(\".json\",\"_patient.pdf\"),add_context=False)\n",
    "\n"
   ]
  }
 ],
 "metadata": {
  "kernelspec": {
   "display_name": ".venv",
   "language": "python",
   "name": "python3"
  },
  "language_info": {
   "codemirror_mode": {
    "name": "ipython",
    "version": 3
   },
   "file_extension": ".py",
   "mimetype": "text/x-python",
   "name": "python",
   "nbconvert_exporter": "python",
   "pygments_lexer": "ipython3",
   "version": "3.10.12"
  }
 },
 "nbformat": 4,
 "nbformat_minor": 5
}
